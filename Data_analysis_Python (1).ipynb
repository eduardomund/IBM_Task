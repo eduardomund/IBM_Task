{
 "cells": [
  {
   "cell_type": "markdown",
   "id": "08c47704-0f26-468d-a34f-c848de3029ca",
   "metadata": {},
   "source": [
    "# Learning Python\n",
    "\n",
    "*First: importing data using pandas library*"
   ]
  },
  {
   "cell_type": "code",
   "execution_count": 43,
   "id": "b0ffa3c8-2c6d-45cd-8869-4db7b9e11094",
   "metadata": {},
   "outputs": [],
   "source": [
    "import pandas as pd #loading pandas\n",
    "path=\"/Users/eduardomund/Downloads/pain_quanti.csv\" # setting a path to the file\n",
    "df = pd.read_csv(path)\n",
    "\n",
    "# Note that when our dataset has no header, we have to specify that to pandas using \"header = None\"\n",
    "# Note that in this case the path was defined as \"path\", which could also be a URL"
   ]
  },
  {
   "cell_type": "markdown",
   "id": "72921ba5-935d-4015-a421-3412eac7c588",
   "metadata": {},
   "source": [
    "The function df is used to read a dataframe.\n",
    "Use df.head(n) and df.tail(n) to show only the first and last rows, respectively."
   ]
  },
  {
   "cell_type": "code",
   "execution_count": 34,
   "id": "b76e9965-7e81-4c2d-a1ee-575f933d558f",
   "metadata": {},
   "outputs": [
    {
     "data": {
      "text/html": [
       "<div>\n",
       "<style scoped>\n",
       "    .dataframe tbody tr th:only-of-type {\n",
       "        vertical-align: middle;\n",
       "    }\n",
       "\n",
       "    .dataframe tbody tr th {\n",
       "        vertical-align: top;\n",
       "    }\n",
       "\n",
       "    .dataframe thead th {\n",
       "        text-align: right;\n",
       "    }\n",
       "</style>\n",
       "<table border=\"1\" class=\"dataframe\">\n",
       "  <thead>\n",
       "    <tr style=\"text-align: right;\">\n",
       "      <th></th>\n",
       "      <th>Study;Author;t;t_n;t_media;t_dp;c;c_n;c_media;c_dp;Pair;</th>\n",
       "    </tr>\n",
       "  </thead>\n",
       "  <tbody>\n",
       "    <tr>\n",
       "      <th>0</th>\n",
       "      <td>1;Abduallah 2020;QLB;30;2.643;0.778;PLA;30;3;1...</td>\n",
       "    </tr>\n",
       "    <tr>\n",
       "      <th>1</th>\n",
       "      <td>2;Aliste 2021;FIB;20;2.219;3.989;PENG;20;2.579...</td>\n",
       "    </tr>\n",
       "    <tr>\n",
       "      <th>2</th>\n",
       "      <td>3;Ban 2017;LIA;43;4.88;1.13;PLA;43;6.14;1.01;L...</td>\n",
       "    </tr>\n",
       "  </tbody>\n",
       "</table>\n",
       "</div>"
      ],
      "text/plain": [
       "  Study;Author;t;t_n;t_media;t_dp;c;c_n;c_media;c_dp;Pair;\n",
       "0  1;Abduallah 2020;QLB;30;2.643;0.778;PLA;30;3;1...      \n",
       "1  2;Aliste 2021;FIB;20;2.219;3.989;PENG;20;2.579...      \n",
       "2  3;Ban 2017;LIA;43;4.88;1.13;PLA;43;6.14;1.01;L...      "
      ]
     },
     "execution_count": 34,
     "metadata": {},
     "output_type": "execute_result"
    }
   ],
   "source": [
    "df.head(3)"
   ]
  },
  {
   "cell_type": "markdown",
   "id": "8ddfbf90-dbc2-4175-bb48-3d41adbb8d2b",
   "metadata": {},
   "source": [
    "Exporting files with pandas:"
   ]
  },
  {
   "cell_type": "code",
   "execution_count": 42,
   "id": "1a1985ba-e72e-4313-b4c4-ba4b62f58b75",
   "metadata": {},
   "outputs": [],
   "source": [
    "path2=\"/Users/eduardomund\" # setting the path\n",
    "\n",
    "df.to_csv(path2)"
   ]
  },
  {
   "cell_type": "markdown",
   "id": "5ef84a06-fd43-4021-9eac-68ffa762a500",
   "metadata": {},
   "source": [
    "After importing a dataset without header, we can assign a name to each column by setting a list (let's call it \"headers\") and then we replace it:"
   ]
  },
  {
   "cell_type": "code",
   "execution_count": 30,
   "id": "b99e9ba9-47e1-4021-9e10-43d64e5a2319",
   "metadata": {},
   "outputs": [],
   "source": [
    "headers=[\"symboling\",\"normalized-losses\",\"make\",\"fuel-type\"]\n",
    "# df.columns = headers (it is not the case here)"
   ]
  },
  {
   "cell_type": "markdown",
   "id": "ed23b1a8-f427-4b6b-9ac7-237495a93759",
   "metadata": {},
   "source": [
    "We use the function dataframe.dtypes to see the types of objects\n",
    "\n",
    "![Examples](/Users/eduardomund/Desktop/Random_pictures/Screenshot2022.png)"
   ]
  },
  {
   "cell_type": "code",
   "execution_count": null,
   "id": "cfcc3e60-f799-49a7-adfb-e57abc2f7d23",
   "metadata": {},
   "outputs": [],
   "source": []
  }
 ],
 "metadata": {
  "kernelspec": {
   "display_name": "Python 3 (ipykernel)",
   "language": "python",
   "name": "python3"
  },
  "language_info": {
   "codemirror_mode": {
    "name": "ipython",
    "version": 3
   },
   "file_extension": ".py",
   "mimetype": "text/x-python",
   "name": "python",
   "nbconvert_exporter": "python",
   "pygments_lexer": "ipython3",
   "version": "3.11.1"
  }
 },
 "nbformat": 4,
 "nbformat_minor": 5
}
