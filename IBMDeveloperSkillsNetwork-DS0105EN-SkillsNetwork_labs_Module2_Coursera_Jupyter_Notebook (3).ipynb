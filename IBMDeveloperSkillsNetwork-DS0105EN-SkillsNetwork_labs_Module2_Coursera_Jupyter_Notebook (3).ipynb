{
  "metadata": {
    "kernelspec": {
      "name": "python",
      "display_name": "Pyolite",
      "language": "python"
    },
    "language_info": {
      "codemirror_mode": {
        "name": "python",
        "version": 3
      },
      "file_extension": ".py",
      "mimetype": "text/x-python",
      "name": "python",
      "nbconvert_exporter": "python",
      "pygments_lexer": "ipython3",
      "version": "3.8"
    }
  },
  "nbformat_minor": 4,
  "nbformat": 4,
  "cells": [
    {
      "cell_type": "markdown",
      "source": "<center>\n    <img src=\"https://cf-courses-data.s3.us.cloud-object-storage.appdomain.cloud/IBMDeveloperSkillsNetwork-DS0105EN-SkillsNetwork/labs/Module2/images/SN_web_lightmode.png\" width=\"300\" alt=\"cognitiveclass.ai logo\"  />\n</center>\n",
      "metadata": {}
    },
    {
      "cell_type": "markdown",
      "source": "#### Add your code below following the instructions given in the course\n",
      "metadata": {}
    },
    {
      "cell_type": "markdown",
      "source": "# My Jupyter Notebook on IBM Watson Studio",
      "metadata": {}
    },
    {
      "cell_type": "markdown",
      "source": "__Eduardo Mund__\n\nPhysician",
      "metadata": {}
    },
    {
      "cell_type": "markdown",
      "source": "_I am interested in data science because it opens a breadth of possibilities in any field of work, including health sciences. I intend to use the skills that I developed through this course to improve clinical decisions in my medical specialty._",
      "metadata": {}
    },
    {
      "cell_type": "markdown",
      "source": "### The next cell is used to show a simple math operation in code:",
      "metadata": {}
    },
    {
      "cell_type": "code",
      "source": "5*7",
      "metadata": {
        "trusted": true
      },
      "execution_count": 8,
      "outputs": [
        {
          "execution_count": 8,
          "output_type": "execute_result",
          "data": {
            "text/plain": "35"
          },
          "metadata": {}
        }
      ]
    },
    {
      "cell_type": "markdown",
      "source": "The horizontal rule is presente below\n\n_____\n\n\n1. This is a \n2. numbered\n3. list\n\n* These are \n* bullet \n* points\n\n\nTable:\n\n| Number        | Square root           \n| ------------- |-------------|\n| 36      | 6 |  \n| 25       | 5      |   \n| 16 | 4      |   \n\nLink:\n\n[Link for IBM products](https://www.ibm.com/products/)\n\n>Blocked quote\n\nThis sentence contain ~~strikethrough.~~",
      "metadata": {}
    }
  ]
}